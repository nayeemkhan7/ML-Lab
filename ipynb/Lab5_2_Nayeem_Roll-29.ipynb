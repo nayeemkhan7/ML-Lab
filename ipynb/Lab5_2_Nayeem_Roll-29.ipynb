{
 "cells": [
  {
   "cell_type": "code",
   "execution_count": 1,
   "id": "sorted-mention",
   "metadata": {},
   "outputs": [],
   "source": [
    "import csv\n",
    "import random\n",
    "import math"
   ]
  },
  {
   "cell_type": "code",
   "execution_count": 2,
   "id": "economic-bracket",
   "metadata": {},
   "outputs": [],
   "source": [
    "# 1.1 Loading the Data from csv file of Pima indians diabetes dataset.\n",
    "def loadcsv(filename):\n",
    "\n",
    "    lines = csv.reader(open(filename, \"r\"))\n",
    "    dataset = list(lines)\n",
    "    for i in range(len(dataset)):\n",
    "        # converting the attributes from string to floating point numbers\n",
    "        dataset[i] = [float(x) for x in dataset[i]]\n",
    "\n",
    "    return dataset"
   ]
  },
  {
   "cell_type": "code",
   "execution_count": 3,
   "id": "particular-appendix",
   "metadata": {},
   "outputs": [],
   "source": [
    "#1.2 Splitting the Data set into Training Set\n",
    "\n",
    "def splitDataset(dataset, splitRatio):\n",
    "    trainSize = int(len(dataset) * splitRatio)\n",
    "    trainSet = []\n",
    "    copy = list(dataset)\n",
    "\n",
    "    while len(trainSet) < trainSize:\n",
    "        index = random.randrange(len(copy)) # random index\n",
    "        trainSet.append(copy.pop(index))\n",
    "\n",
    "    return [trainSet, copy]"
   ]
  },
  {
   "cell_type": "code",
   "execution_count": 4,
   "id": "determined-rider",
   "metadata": {},
   "outputs": [],
   "source": [
    "#2.Summarize Data\n",
    "#2.1: Separate Data By Class\n",
    "\n",
    "def separateByClass(dataset):\n",
    "    separated = {}\n",
    "    for i in range(len(dataset)):\n",
    "        vector = dataset[i]\n",
    "        if (vector[-1] not in separated):\n",
    "            separated[vector[-1]] = []\n",
    "        separated[vector[-1]].append(vector)\n",
    "\n",
    "    return separated"
   ]
  },
  {
   "cell_type": "code",
   "execution_count": 5,
   "id": "stupid-expression",
   "metadata": {},
   "outputs": [],
   "source": [
    "#2.2 : Calculate Mean\n",
    "\n",
    "def mean(numbers):\n",
    "    return sum(numbers)/float(len(numbers))"
   ]
  },
  {
   "cell_type": "code",
   "execution_count": 6,
   "id": "consistent-jungle",
   "metadata": {},
   "outputs": [],
   "source": [
    "#2.3 : Calculate Standard Deviation\n",
    "\n",
    "def stdev(numbers):\n",
    "    avg = mean(numbers)\n",
    "    variance = sum([pow(x-avg,2) for x in numbers])/float(len(numbers)-1)\n",
    "    return math.sqrt(variance)"
   ]
  },
  {
   "cell_type": "code",
   "execution_count": 7,
   "id": "selected-thousand",
   "metadata": {},
   "outputs": [],
   "source": [
    "#2.4 : Summarize Dataset\n",
    "\n",
    "def summarize(dataset):\n",
    "    summaries = [(mean(attribute), stdev(attribute)) for attribute in zip(*dataset)]\n",
    "    del summaries[-1]\n",
    "    return summaries"
   ]
  },
  {
   "cell_type": "code",
   "execution_count": 8,
   "id": "round-lancaster",
   "metadata": {},
   "outputs": [],
   "source": [
    "#2.5 : Summarize Attributes By Class\n",
    "\n",
    "def summarizeByClass(dataset):\n",
    "    separated = separateByClass(dataset)\n",
    "    summaries = {}\n",
    "    for classValue, instances in separated.items():\n",
    "        summaries[classValue] = summarize(instances)\n",
    "    return summaries"
   ]
  },
  {
   "cell_type": "code",
   "execution_count": 9,
   "id": "solved-postcard",
   "metadata": {},
   "outputs": [],
   "source": [
    "#3.Make Prediction\n",
    "#3.1 Calculate Probaility Density Function\n",
    "\n",
    "def calculateProbability(x, mean, stdev):\n",
    "    exponent = math.exp(-(math.pow(x-mean,2)/(2*math.pow(stdev,2))))\n",
    "    return (1 / (math.sqrt(2*math.pi) * stdev)) * exponent"
   ]
  },
  {
   "cell_type": "code",
   "execution_count": 10,
   "id": "intensive-tours",
   "metadata": {},
   "outputs": [],
   "source": [
    "#3.2 Calculate Class Probabilities\n",
    "\n",
    "def calculateClassProbabilities(summaries, inputVector):\n",
    "    probabilities = {}\n",
    "    for classValue, classSummaries in summaries.items():\n",
    "        probabilities[classValue] = 1\n",
    "        for i in range(len(classSummaries)):\n",
    "            mean, stdev = classSummaries[i]\n",
    "            x = inputVector[i]\n",
    "            probabilities[classValue] *= calculateProbability(x, mean, stdev)\n",
    "            \n",
    "    return probabilities"
   ]
  },
  {
   "cell_type": "code",
   "execution_count": 11,
   "id": "consistent-immunology",
   "metadata": {},
   "outputs": [],
   "source": [
    "#3.3 Prediction : look for the largest probability and return the associated class\n",
    "\n",
    "def predict(summaries, inputVector):\n",
    "    probabilities = calculateClassProbabilities(summaries, inputVector)\n",
    "    bestLabel, bestProb = None, -1\n",
    "    for classValue, probability in probabilities.items():\n",
    "        if bestLabel is None or probability > bestProb:\n",
    "            bestProb = probability\n",
    "            bestLabel = classValue\n",
    "            \n",
    "    return bestLabel"
   ]
  },
  {
   "cell_type": "code",
   "execution_count": 12,
   "id": "nominated-royalty",
   "metadata": {},
   "outputs": [],
   "source": [
    "#4.Make Predictions\n",
    "\n",
    "def getPredictions(summaries, testSet):\n",
    "    predictions = []\n",
    "    for i in range(len(testSet)):\n",
    "        result = predict(summaries, testSet[i])\n",
    "        predictions.append(result)\n",
    "\n",
    "    return predictions"
   ]
  },
  {
   "cell_type": "code",
   "execution_count": 13,
   "id": "bottom-victorian",
   "metadata": {},
   "outputs": [],
   "source": [
    "#5. Computing Accuracy\n",
    "\n",
    "def getAccuracy(testSet, predictions):\n",
    "    correct = 0\n",
    "    for i in range(len(testSet)):\n",
    "        if testSet[i][-1] == predictions[i]:\n",
    "            correct += 1\n",
    "\n",
    "    return (correct/float(len(testSet))) * 100.0"
   ]
  },
  {
   "cell_type": "code",
   "execution_count": 14,
   "id": "median-puppy",
   "metadata": {},
   "outputs": [
    {
     "name": "stdout",
     "output_type": "stream",
     "text": [
      "\n",
      "The length of the Data Set :  768\n",
      "\n",
      "The Data Set Splitting into Training and Testing \n",
      "\n",
      "\n",
      "Number of Rows in Training Set:514 rows\n",
      "\n",
      "Number of Rows in Testing Set:254 rows\n",
      "\n",
      "First Five Rows of Training Set:\n",
      "\n",
      "[13.0, 76.0, 60.0, 0.0, 0.0, 32.8, 0.18, 41.0, 0.0] \n",
      "\n",
      "[0.0, 146.0, 70.0, 0.0, 0.0, 37.9, 0.334, 28.0, 1.0] \n",
      "\n",
      "[5.0, 124.0, 74.0, 0.0, 0.0, 34.0, 0.22, 38.0, 1.0] \n",
      "\n",
      "[1.0, 121.0, 78.0, 39.0, 74.0, 39.0, 0.261, 28.0, 0.0] \n",
      "\n",
      "[0.0, 118.0, 84.0, 47.0, 230.0, 45.8, 0.551, 31.0, 1.0] \n",
      "\n",
      "\n",
      " First Five Rows of Testing Set:\n",
      "\n",
      "[5.0, 116.0, 74.0, 0.0, 0.0, 25.6, 0.201, 30.0, 0.0] \n",
      "\n",
      "[2.0, 197.0, 70.0, 45.0, 543.0, 30.5, 0.158, 53.0, 1.0] \n",
      "\n",
      "[4.0, 110.0, 92.0, 0.0, 0.0, 37.6, 0.191, 30.0, 0.0] \n",
      "\n",
      "[10.0, 139.0, 80.0, 0.0, 0.0, 27.1, 1.441, 57.0, 0.0] \n",
      "\n",
      "[1.0, 103.0, 30.0, 38.0, 83.0, 43.3, 0.183, 33.0, 0.0] \n",
      "\n",
      "\n",
      " Model Summaries:\n",
      " {0.0: [(3.1895043731778427, 2.8951876868244466), (109.71720116618076, 27.61787964985999), (67.67930029154519, 18.309931078984537), (19.760932944606413, 14.740483747671696), (70.38483965014578, 104.36910436010433), (30.303790087463547, 7.615489961100386), (0.4314169096209915, 0.2784475203419374), (31.102040816326532, 11.71311912197518)], 1.0: [(5.011695906432749, 3.717982223312198), (142.2514619883041, 33.705138998509405), (70.93567251461988, 21.61049478128908), (22.426900584795323, 16.812781597433535), (106.69590643274854, 140.78548945813873), (35.55906432748537, 7.6997377534762945), (0.5628128654970767, 0.37114750525503293), (36.74269005847953, 10.733860213080819)]}\n",
      "\n",
      "Predictions:\n",
      " [0.0, 1.0, 0.0, 1.0, 0.0, 1.0, 0.0, 0.0, 0.0, 0.0, 1.0, 0.0, 0.0, 0.0, 1.0, 0.0, 0.0, 0.0, 0.0, 0.0, 0.0, 0.0, 0.0, 0.0, 0.0, 0.0, 0.0, 1.0, 0.0, 0.0, 1.0, 0.0, 0.0, 1.0, 0.0, 0.0, 1.0, 0.0, 0.0, 0.0, 1.0, 1.0, 0.0, 0.0, 1.0, 1.0, 1.0, 1.0, 1.0, 0.0, 1.0, 1.0, 0.0, 0.0, 0.0, 0.0, 0.0, 0.0, 0.0, 0.0, 1.0, 1.0, 0.0, 0.0, 0.0, 0.0, 0.0, 0.0, 1.0, 0.0, 1.0, 0.0, 0.0, 0.0, 0.0, 1.0, 0.0, 0.0, 1.0, 0.0, 0.0, 1.0, 1.0, 1.0, 1.0, 1.0, 0.0, 0.0, 1.0, 0.0, 0.0, 1.0, 1.0, 0.0, 0.0, 0.0, 1.0, 1.0, 1.0, 0.0, 0.0, 1.0, 0.0, 1.0, 1.0, 1.0, 0.0, 1.0, 0.0, 0.0, 0.0, 0.0, 1.0, 0.0, 0.0, 1.0, 0.0, 0.0, 0.0, 1.0, 0.0, 0.0, 0.0, 1.0, 1.0, 1.0, 1.0, 1.0, 1.0, 1.0, 1.0, 1.0, 1.0, 0.0, 1.0, 1.0, 1.0, 0.0, 0.0, 0.0, 1.0, 0.0, 1.0, 1.0, 0.0, 0.0, 1.0, 0.0, 1.0, 0.0, 1.0, 0.0, 0.0, 0.0, 0.0, 1.0, 0.0, 0.0, 0.0, 1.0, 0.0, 0.0, 0.0, 0.0, 1.0, 1.0, 1.0, 0.0, 0.0, 0.0, 1.0, 0.0, 1.0, 0.0, 0.0, 0.0, 0.0, 1.0, 1.0, 0.0, 1.0, 1.0, 0.0, 1.0, 0.0, 0.0, 0.0, 0.0, 0.0, 1.0, 1.0, 0.0, 1.0, 1.0, 0.0, 1.0, 0.0, 1.0, 0.0, 1.0, 1.0, 0.0, 1.0, 1.0, 0.0, 0.0, 0.0, 1.0, 0.0, 0.0, 0.0, 0.0, 0.0, 0.0, 0.0, 1.0, 0.0, 0.0, 0.0, 0.0, 1.0, 1.0, 0.0, 1.0, 0.0, 1.0, 0.0, 1.0, 0.0, 0.0, 1.0, 0.0, 1.0, 0.0, 0.0, 1.0, 0.0, 0.0, 0.0, 0.0, 0.0, 0.0, 0.0, 0.0, 0.0, 1.0, 1.0, 1.0, 1.0, 1.0, 1.0, 0.0, 1.0, 0.0]\n",
      "\n",
      " Accuracy: 71.65354330708661%\n"
     ]
    }
   ],
   "source": [
    "#Main Function\n",
    "\n",
    "def main():\n",
    "    filename = 'D:\\\\DataSets\\\\Lab5.csv'\n",
    "    splitRatio = 0.67\n",
    "    dataset = loadcsv(filename)\n",
    "\n",
    "    #print(\"\\n The Data Set :\\n\",dataset)\n",
    "    print(\"\\nThe length of the Data Set : \",len(dataset))\n",
    "    print(\"\\nThe Data Set Splitting into Training and Testing \\n\")\n",
    "    trainingSet, testSet = splitDataset(dataset, splitRatio)\n",
    "\n",
    "    print('\\nNumber of Rows in Training Set:{0} rows'.format(len(trainingSet)))\n",
    "    print('\\nNumber of Rows in Testing Set:{0} rows'.format(len(testSet)))\n",
    "    print(\"\\nFirst Five Rows of Training Set:\\n\")\n",
    "\n",
    "    for i in range(0,5):\n",
    "        print(trainingSet[i],\"\\n\")\n",
    "    print(\"\\n First Five Rows of Testing Set:\\n\")\n",
    "\n",
    "    for i in range(0,5):\n",
    "        print(testSet[i],\"\\n\")\n",
    "\n",
    "    # prepare model\n",
    "    summaries = summarizeByClass(trainingSet)\n",
    "    print(\"\\n Model Summaries:\\n\",summaries)\n",
    "\n",
    "    # test model\n",
    "    predictions = getPredictions(summaries, testSet)\n",
    "    print(\"\\nPredictions:\\n\",predictions)\n",
    "    accuracy = getAccuracy(testSet, predictions)\n",
    "    print('\\n Accuracy: {0}%'.format(accuracy))\n",
    "\n",
    "main()"
   ]
  },
  {
   "cell_type": "code",
   "execution_count": null,
   "id": "intellectual-trinity",
   "metadata": {},
   "outputs": [],
   "source": []
  }
 ],
 "metadata": {
  "kernelspec": {
   "display_name": "Python 3",
   "language": "python",
   "name": "python3"
  },
  "language_info": {
   "codemirror_mode": {
    "name": "ipython",
    "version": 3
   },
   "file_extension": ".py",
   "mimetype": "text/x-python",
   "name": "python",
   "nbconvert_exporter": "python",
   "pygments_lexer": "ipython3",
   "version": "3.9.1"
  }
 },
 "nbformat": 4,
 "nbformat_minor": 5
}
