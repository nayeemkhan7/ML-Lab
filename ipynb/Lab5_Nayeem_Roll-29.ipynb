{
 "cells": [
  {
   "cell_type": "code",
   "execution_count": 23,
   "id": "going-estonia",
   "metadata": {},
   "outputs": [],
   "source": [
    "import csv\n",
    "import random\n",
    "import math"
   ]
  },
  {
   "cell_type": "code",
   "execution_count": 24,
   "id": "durable-algorithm",
   "metadata": {},
   "outputs": [],
   "source": [
    "# 1.Data Handling\n",
    "# 1.1 Loading the Data from csv file of Pima indians diabetes dataset.\n",
    "def loadcsv(filename):\n",
    "    lines = csv.reader(open(filename, \"r\"))\n",
    "    dataset = list(lines)\n",
    "    for i in range(len(dataset)):\n",
    "        # converting the attributes from string to floating point numbers\n",
    "        dataset[i] = [float(x) for x in dataset[i]]\n",
    "    return dataset\n"
   ]
  },
  {
   "cell_type": "code",
   "execution_count": 25,
   "id": "forced-religious",
   "metadata": {},
   "outputs": [],
   "source": [
    "#1.2 Splitting the Data set into Training Set\n",
    "def splitDataset(dataset, splitRatio):\n",
    "    trainSize = int(len(dataset) * splitRatio)\n",
    "    trainSet = []\n",
    "    copy = list(dataset)\n",
    "    while len(trainSet) < trainSize:\n",
    "        index = random.randrange(len(copy)) # random index\n",
    "        trainSet.append(copy.pop(index))\n",
    "    return [trainSet, copy]\n"
   ]
  },
  {
   "cell_type": "code",
   "execution_count": 26,
   "id": "medium-chance",
   "metadata": {},
   "outputs": [],
   "source": [
    "#2.1: Separate Data By Class\n",
    "\n",
    "def separateByClass(dataset):\n",
    "    separated = {}\n",
    "    for i in range(len(dataset)):\n",
    "        vector = dataset[i]\n",
    "        if (vector[-1] not in separated):\n",
    "            separated[vector[-1]] = []\n",
    "        separated[vector[-1]].append(vector)\n",
    "    return separated"
   ]
  },
  {
   "cell_type": "code",
   "execution_count": 27,
   "id": "bizarre-amount",
   "metadata": {},
   "outputs": [],
   "source": [
    "def mean(numbers):\n",
    "    return sum(numbers)/float(len(numbers))\n"
   ]
  },
  {
   "cell_type": "code",
   "execution_count": 28,
   "id": "cloudy-india",
   "metadata": {},
   "outputs": [],
   "source": [
    "#2.3 : Calculate Standard Deviation\n",
    "def stdev(numbers):\n",
    "    avg = mean(numbers)\n",
    "    variance = sum([pow(x-avg,2) for x in numbers])/float(len(numbers)-1)\n",
    "    return math.sqrt(variance)\n"
   ]
  },
  {
   "cell_type": "code",
   "execution_count": 29,
   "id": "determined-ecuador",
   "metadata": {},
   "outputs": [],
   "source": [
    "#2.4 : Summarize Dataset\n",
    "def summarize(dataset):\n",
    "    summaries = [(mean(attribute), stdev(attribute)) for attribute in zip(*dataset)]\n",
    "    del summaries[-1]\n",
    "    return summaries\n"
   ]
  },
  {
   "cell_type": "code",
   "execution_count": 30,
   "id": "blond-humor",
   "metadata": {},
   "outputs": [],
   "source": [
    "#2.5 : Summarize Attributes By Class\n",
    "def summarizeByClass(dataset):\n",
    "    separated = separateByClass(dataset)\n",
    "    summaries = {}\n",
    "    for classValue, instances in separated.items():\n",
    "        summaries[classValue] = summarize(instances)\n",
    "    return summaries\n"
   ]
  },
  {
   "cell_type": "code",
   "execution_count": 31,
   "id": "radical-sherman",
   "metadata": {},
   "outputs": [],
   "source": [
    "#3.Make Prediction\n",
    "#3.1 Calculate Probaility Density Function\n",
    "def calculateClassProbabilities(summaries, inputVector):\n",
    "    probabilities = {}\n",
    "    for classValue, classSummaries in summaries.items():\n",
    "        probabilities[classValue] = 1\n",
    "        for i in range(len(classSummaries)):\n",
    "            mean, stdev = classSummaries[i]\n",
    "            x = inputVector[i]\n",
    "            probabilities[classValue] *= calculateProbability(x, mean, stdev)\n",
    "    return probabilities"
   ]
  },
  {
   "cell_type": "code",
   "execution_count": 32,
   "id": "trying-windsor",
   "metadata": {},
   "outputs": [],
   "source": [
    "def predict(summaries, inputvector): #training and test data is passed\n",
    "    probabilities = calculateclassprobabilities(summaries, inputvector)\n",
    "    bestLabel, bestProb = None, -1\n",
    "    for classvalue, probability in probabilities.items():\n",
    "        #assigns that class which has the highest prob\n",
    "        if bestLabel is None or probability > bestProb:\n",
    "            bestProb = probability\n",
    "            bestLabel = classvalue\n",
    "    return bestLabel\n"
   ]
  },
  {
   "cell_type": "code",
   "execution_count": 33,
   "id": "brief-ceremony",
   "metadata": {},
   "outputs": [],
   "source": [
    "#4.Make Predictions\n",
    "\n",
    "def getPredictions(summaries, testset):\n",
    "    predictions = []\n",
    "    for i in range(len(testset)):\n",
    "        result = predict(summaries, testset[i])\n",
    "        predictions.append(result)\n",
    "    return predictions\n"
   ]
  },
  {
   "cell_type": "code",
   "execution_count": 38,
   "id": "protected-shower",
   "metadata": {},
   "outputs": [],
   "source": [
    "#5. Computing Accuracy\n",
    "\n",
    "def getaccuracy(testset, predictions):\n",
    "    correct = 0\n",
    "    for i in range(len(testset)):\n",
    "        if testset[i][-1] == predictions[i]:\n",
    "            correct += 1\n",
    "    return (correct/float(len(testset))) * 100.0\n"
   ]
  },
  {
   "cell_type": "code",
   "execution_count": 50,
   "id": "known-threat",
   "metadata": {},
   "outputs": [
    {
     "name": "stdout",
     "output_type": "stream",
     "text": [
      "\n",
      "The length of the Data Set :  768\n",
      "\n",
      "The Data Set Splitting into Training and Testing \n",
      "\n",
      "\n",
      "Number of Rows in Training Set:514 rows\n",
      "\n",
      "Number of Rows in Testing Set:254 rows\n",
      "\n",
      "First Five Rows of Training Set:\n",
      "\n",
      "[3.0, 84.0, 68.0, 30.0, 106.0, 31.9, 0.591, 25.0, 0.0] \n",
      "\n",
      "[0.0, 104.0, 64.0, 37.0, 64.0, 33.6, 0.51, 22.0, 1.0] \n",
      "\n",
      "[3.0, 80.0, 82.0, 31.0, 70.0, 34.2, 1.292, 27.0, 1.0] \n",
      "\n",
      "[1.0, 86.0, 66.0, 52.0, 65.0, 41.3, 0.917, 29.0, 0.0] \n",
      "\n",
      "[7.0, 178.0, 84.0, 0.0, 0.0, 39.9, 0.331, 41.0, 1.0] \n",
      "\n",
      "\n",
      "First Five Rows of Testing Set:\n",
      "\n",
      "[1.0, 85.0, 66.0, 29.0, 0.0, 26.6, 0.351, 31.0, 0.0] \n",
      "\n",
      "[8.0, 183.0, 64.0, 0.0, 0.0, 23.3, 0.672, 32.0, 1.0] \n",
      "\n",
      "[0.0, 137.0, 40.0, 35.0, 168.0, 43.1, 2.288, 33.0, 1.0] \n",
      "\n",
      "[10.0, 115.0, 0.0, 0.0, 0.0, 35.3, 0.134, 29.0, 0.0] \n",
      "\n",
      "[2.0, 197.0, 70.0, 45.0, 543.0, 30.5, 0.158, 53.0, 1.0] \n",
      "\n",
      "\n",
      "Model Summaries:\n",
      " {0.0: [(3.2831858407079646, 2.880671231409019), (110.83775811209439, 25.55711070103786), (68.9410029498525, 17.269772139792302), (19.067846607669615, 14.758954711149118), (69.33628318584071, 100.88070263852555), (30.447492625368735, 7.380228137605985), (0.4373539823008851, 0.3058361683970274), (30.72566371681416, 11.24097096261871)], 1.0: [(5.074285714285714, 3.776845887831131), (141.36, 33.39766665398999), (70.34285714285714, 22.439628914329397), (21.05142857142857, 17.21609397121239), (94.90285714285714, 139.95736930106574), (35.329142857142855, 6.908316398948465), (0.5713885714285716, 0.3735423899773846), (36.77142857142857, 10.459241402036547)]}\n"
     ]
    }
   ],
   "source": [
    "#Main Function\n",
    "def main():\n",
    "    filename = 'D:\\\\DataSets\\\\Lab5.csv'\n",
    "    splitRatio = 0.67\n",
    "    dataset = loadcsv(filename)\n",
    "    #print(\"\\n The Data Set :\\n\",dataset)\n",
    "    \n",
    "    print(\"\\nThe length of the Data Set : \",len(dataset))\n",
    "    print(\"\\nThe Data Set Splitting into Training and Testing \\n\")\n",
    "    trainingSet, testSet = splitDataset(dataset, splitRatio)\n",
    "    \n",
    "    print('\\nNumber of Rows in Training Set:{0} rows'.format(len(trainingSet)))\n",
    "    print('\\nNumber of Rows in Testing Set:{0} rows'.format(len(testSet)))\n",
    "    print(\"\\nFirst Five Rows of Training Set:\\n\")\n",
    "    \n",
    "    for i in range(0,5):\n",
    "        print(trainingSet[i],\"\\n\")\n",
    "        \n",
    "    print(\"\\nFirst Five Rows of Testing Set:\\n\")\n",
    "    for i in range(0,5):\n",
    "        print(testSet[i],\"\\n\")\n",
    "        \n",
    "    # prepare model\n",
    "    summaries = summarizeByClass(trainingSet)\n",
    "    print(\"\\nModel Summaries:\\n\",summaries)\n",
    "    \n",
    "main()\n"
   ]
  },
  {
   "cell_type": "code",
   "execution_count": null,
   "id": "antique-fisher",
   "metadata": {},
   "outputs": [],
   "source": []
  },
  {
   "cell_type": "code",
   "execution_count": null,
   "id": "minor-color",
   "metadata": {},
   "outputs": [],
   "source": []
  }
 ],
 "metadata": {
  "kernelspec": {
   "display_name": "Python 3",
   "language": "python",
   "name": "python3"
  },
  "language_info": {
   "codemirror_mode": {
    "name": "ipython",
    "version": 3
   },
   "file_extension": ".py",
   "mimetype": "text/x-python",
   "name": "python",
   "nbconvert_exporter": "python",
   "pygments_lexer": "ipython3",
   "version": "3.9.1"
  }
 },
 "nbformat": 4,
 "nbformat_minor": 5
}
